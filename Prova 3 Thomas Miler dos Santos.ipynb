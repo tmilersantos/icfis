{
 "cells": [
  {
   "cell_type": "markdown",
   "metadata": {},
   "source": [
    "# Introdução à Programação em Física\n",
    "# Prova 2\n",
    "\n",
    "### Professor: Gustavo Guerrero"
   ]
  },
  {
   "cell_type": "markdown",
   "metadata": {},
   "source": [
    "## Alunos:\n",
    "1. Thomas Miler dos Santos\n"
   ]
  },
  {
   "cell_type": "markdown",
   "metadata": {},
   "source": [
    "### Prova diferente\n",
    "\n",
    "Essa prova consiste em formular e resolver os pontos da sua prova.  \n",
    "\n",
    "\n",
    "Deve formular 2 perguntas que devem ser resolvidas usando os métodos aprendidos nos capítulos sobre algebra linear, equaçoes diferenciais ordinarias e analise de Fourier. As regras da prova são as seguintes:\n",
    "\n",
    "1. Não podem ser problemas iguais aos vistos na sala de aula.\n",
    "\n",
    "2. Podem ser problemas em qualquer área da ciência. Mas não um exercicio matemático, ou seja, devem ter aplicação.\n",
    "\n",
    "2. Devem ser resolvidos com as rotinas e métodos estudados (e.g., se  o problema se resolve com Runge-Kutta, devem usar a rotina usada na sala de aula).\n",
    "\n",
    "3. Cada pergunta deve ser formulada claramente, com os parámetros e condições a ser utilizadas, as respostas devem responder as perguntas usando métodos numéricos. \n",
    "\n",
    "Note que a solução numérica é a alternativa a ser usada quando a solução analítica é muito dificil. Pense nisso na hora de escolher o problema. \n",
    "\n",
    "\n"
   ]
  },
  {
   "cell_type": "markdown",
   "metadata": {},
   "source": [
    "## Movimento bidimensional de dois e três corpos"
   ]
  },
  {
   "cell_type": "markdown",
   "metadata": {},
   "source": [
    "Um exemplo de sistema gravitacional de dois corpos é o sistema Terra-Sol. Vamos considerar o Sol parado e como a origem do sistema de coordenadas\n",
    "e vamos chamar a posição da Terra de $\\vec{r}$. A força gravitacional do Sol na Terra é:\n",
    "$$\n",
    "    \\vec{F} = -G \\frac{M_{Sol}M_{Terra}}{r^3} \\,\\, \\vec{r} \\,\\,.\n",
    "$$\n",
    "\n",
    "A única força atuando na Terra vai ser a atração gravitacional exercida pelo Sol. A equação de Newton pra Terra fica então:\n",
    "$$\n",
    "M_{Terra} \\frac{d^2 \\vec{r}}{dt^2} = \\vec{F} = -G \\frac{M_{Sol}M_{Terra}}{r^3} \\,\\, \\vec{r} \\,\\,.\n",
    "$$\n",
    "Manipulando um pouco essa equação encontramos:\n",
    "$$\n",
    "\\frac{d^2 \\vec{r}}{dt^2} = -G \\frac{M_{Sol}}{r^3} \\,\\, \\vec{r} \\,\\,,\n",
    "$$\n",
    "precisando agora abrir essa equação nas direções em que a força é exercida. Se considerarmos a órbita da Terra como sendo planar, temos $\\vec{r(t)} = (x(t),y(t))$. Ficamos então com as seguintes equações diferenciais:\n",
    "$$\n",
    "\\frac{d^2x}{dt^2} = -GM_{Sol} \\frac{x}{(x^2+y^2)^{3/2}}\n",
    "$$\n",
    "$$\n",
    "\\frac{d^2y}{dt^2} = -GM_{Sol} \\frac{y}{(x^2+y^2)^{3/2}}\n",
    "$$\n",
    "\n",
    "O último passo é transformar as equações de segunda ordem em duas equações de primeira ordem. Definimos então as variáveis u e v como as primeiras derivadas de x e y:\n",
    "$$\n",
    "u = \\frac{dx}{dt} \\qquad,\\qquad v = \\frac{dy}{dt}\n",
    "$$\n",
    "assim ficamos com as quatro equações de primeira ordem acopladas\n",
    "$$\n",
    "\\frac{du}{dt} = -GM_{Sol} \\frac{x}{(x^2+y^2)^{3/2}} \\qquad,\\qquad \\frac{dx}{dt} = u\n",
    "$$\n",
    "$$\n",
    "\\frac{dv}{dt} = -GM_{Sol} \\frac{y}{(x^2+y^2)^{3/2}} \\qquad,\\qquad \\frac{dy}{dt} = v\n",
    "$$\n",
    "\n",
    "Chegando em equações diferenciais com a seguinte cara:\n",
    "$$\n",
    "    \\frac{du}{dt} = f(t,x,y) \\qquad,\\qquad \\frac{dv}{dt} = g(t,x,y) \n",
    "$$\n",
    "$$\n",
    "    \\frac{dx}{dt} = h(t,u) \\qquad,\\qquad \\frac{dy}{dt} = i(t,v)\n",
    "$$\n",
    "\n",
    "Sendo então necessário para utilizar o método de Runge-Kutta, Euler, ou qualquer outro, que seja forncido as funções f,g,h e i.\n"
   ]
  },
  {
   "cell_type": "markdown",
   "metadata": {},
   "source": [
    "#### 1) Suponha dois corpos interagindo gravitacionalmente em determinado intervalo de tempo. \n",
    "\n",
    "a) Sendo os dados iniciais fornecidos para o corpo 1:\n",
    "\n",
    "$\\vec{r(t)} = (10, 0)$, $\\vec{v(t)} = (1, 1)$ e massa $m=100.0$\n",
    "    \n",
    "e para o corpo 2: \n",
    "\n",
    "$\\vec{r(t)} = (0, 0)$, $\\vec{v(t)} = (0, 0)$ e massa $m=1.0$\n",
    "    \n",
    "Escreva um código que descreva o movimento desses corpos interagindo gravitacionalmente e estipule a posição $\\vec{r(t)} = (x, y)$ final do corpo 2 no instante $t=50$."
   ]
  },
  {
   "cell_type": "code",
   "execution_count": 1,
   "metadata": {},
   "outputs": [],
   "source": [
    "import numpy as np\n",
    "import matplotlib.pyplot as plt"
   ]
  },
  {
   "cell_type": "code",
   "execution_count": 2,
   "metadata": {},
   "outputs": [],
   "source": [
    "def simula_traj(x10, vx10, y10, vy10,x20, vx20, y20, vy20,dt, t0, tf, Fx, Fy):\n",
    "    \n",
    "    m1 = 100.0\n",
    "    m2 = 1.0\n",
    "    # alocando variáveis x, y e t\n",
    "    n = int(np.ceil((tf - t0)/dt))\n",
    "    x1 = np.zeros([n,1])\n",
    "    y1 = np.zeros([n,1])\n",
    "    vx1 = np.zeros([n,1])\n",
    "    vy1 = np.zeros([n,1])\n",
    "    x2 = np.zeros([n,1])\n",
    "    y2 = np.zeros([n,1])\n",
    "    vx2 = np.zeros([n,1])\n",
    "    vy2 = np.zeros([n,1])\n",
    "    t = np.zeros([n,1])\n",
    "    \n",
    "    # inicializar as variáveis que serão simuladas\n",
    "    x1[0] = x10\n",
    "    y1[0] = y10\n",
    "    vx1[0] = vx10\n",
    "    vy1[0] = vy10\n",
    "    x2[0] = x20\n",
    "    y2[0] = y20\n",
    "    vx2[0] = vx20\n",
    "    vy2[0] = vy20\n",
    "    t[0] = t0\n",
    "    \n",
    "    \n",
    "    # loop pra simular a trajetória\n",
    "    for k in range(1, n):\n",
    "        \n",
    "        # calcular a aceleração ( a = F_tot/m)\n",
    "        ax1 = Fx(m1, m2, x1[k-1], y1[k-1], x2[k-1], y2[k-1]) / m1\n",
    "        ay1 = Fy(m1, m2, x1[k-1], y1[k-1], x2[k-1], y2[k-1])/ m1\n",
    "        ax2 = Fx(m1, m2, x2[k-1], y2[k-1], x1[k-1], y1[k-1]) / m2\n",
    "        ay2 = Fy(m1, m2, x2[k-1], y2[k-1], x1[k-1], y1[k-1]) / m2\n",
    "        \n",
    "        # dada a velocidade atual, calcular a velocidade em t+dt\n",
    "        vx1[k] = vx1[k-1]+ ax1*dt\n",
    "        vy1[k] = vy1[k-1]+ ay1*dt\n",
    "        vx2[k] = vx2[k-1]+ ax2*dt\n",
    "        vy2[k] = vy2[k-1]+ ay2*dt\n",
    "        \n",
    "        # dado a posição atual, calcula a posição em t+dt\n",
    "        x1[k] = x1[k-1] + vx1[k]*dt\n",
    "        y1[k] = y1[k-1] + vy1[k]*dt\n",
    "        x2[k] = x2[k-1] + vx2[k]*dt\n",
    "        y2[k] = y2[k-1] + vy2[k]*dt\n",
    "        # dado o instante atual, calcular o próximo t[k]\n",
    "        t[k] = t[k-1] + dt\n",
    "          \n",
    "    \n",
    "    return [t, x1, y1, x2, y2]\n",
    "\n",
    "\n",
    "# lei de força do sistema (sistema gravitacional)\n",
    "# fg = (G*m1*m2)/[(x1-x2)²+(y1-y2)²]^(3/2)  * [x2-x1, y2-y1]\n",
    "# fg21x(m1, m2, x1, x2 y1, y2) = (G*m1*m2)/[(x1-x2)²+(y1-y2)²]^(3/2)  * [x2-x1]\n",
    "# fg21y(m1, m2, x1, x2, y1, y2) = (G*m1*m2)/[(x1-x2)²+(y1-y2)²]^(3/2)  * [y2-y1]\n",
    "\n",
    "def Fy(m1, m2, x1, y1, x2, y2):\n",
    "    G = 1\n",
    "    return (((G*m1*m2) * (y2-y1)) / (( (x1-x2)**2 + (y1-y2)**2)**(3/2)) )\n",
    "\n",
    "def Fx(m1, m2, x1, y1, x2, y2):\n",
    "    G = 1\n",
    "    return (((G*m1*m2) * (x2-x1))/ (((x1-x2)**2 + (y1-y2)**2)**(3/2)))\n"
   ]
  },
  {
   "cell_type": "code",
   "execution_count": 3,
   "metadata": {},
   "outputs": [
    {
     "data": {
      "image/png": "[encoded data removed]",
      "text/plain": [
       "<Figure size 432x288 with 1 Axes>"
      ]
     },
     "metadata": {},
     "output_type": "display_data"
    }
   ],
   "source": [
    "#definis os parametros da simulação\n",
    "x10 = 10.0\n",
    "vx10 = 1.0\n",
    "y10 = 0.0\n",
    "vy10 = 1.0\n",
    "\n",
    "x20 = 0.0\n",
    "vx20 = 0.0\n",
    "y20 = 0.0\n",
    "vy20 = 0.0\n",
    "\n",
    "dt = 0.01\n",
    "t0 = 0.0\n",
    "tf = 50.0\n",
    "\n",
    "#fazer a simulação\n",
    "t, x1, y1, x2, y2 = simula_traj(x10, vx10, y10, vy10, x20, vx20, y20, vy20, dt, t0, tf, Fx, Fy)\n",
    "\n",
    "plt.plot(x1,y1, 'b-', label='Corpo 1')\n",
    "plt.plot(x2,y2, 'r-', label='Corpo2')\n",
    "plt.xlabel('Posição em x')\n",
    "plt.ylabel('Posição em y')\n",
    "plt.legend()\n",
    "plt.grid()\n"
   ]
  },
  {
   "cell_type": "code",
   "execution_count": null,
   "metadata": {},
   "outputs": [],
   "source": []
  },
  {
   "cell_type": "code",
   "execution_count": 13,
   "metadata": {},
   "outputs": [
    {
     "name": "stdout",
     "output_type": "stream",
     "text": [
      "[[array([48.9434185]), array([49.74112626])]]\n"
     ]
    }
   ],
   "source": [
    "# Preciso plotar aqui as posições do Corpo 2\n",
    "posicoes=[]\n",
    "c=0\n",
    "for i in t:\n",
    "    if t[c]==t[-1]:\n",
    "        posicoes.append([x2[c],y2[c]])\n",
    "    c+=1\n",
    "\n",
    "print(posicoes)\n",
    "    "
   ]
  },
  {
   "cell_type": "markdown",
   "metadata": {},
   "source": [
    "b) Suponha que um terceiro corpo com condições iniciais\n",
    "\n",
    "$\\vec{r(t)} = (20, 30)$, $\\vec{v(t)} = (0.1, 0.1)$ e massa $m=20$\n",
    "\n",
    "seja adicionado ao sistema. Escreva um código que mostre o comportamento destes três corpos interagindo gravitacionalmente entre si e encontre a posição do Corpo 2 sob estas novas condições para um mesmo instante $t=50$."
   ]
  },
  {
   "cell_type": "code",
   "execution_count": 15,
   "metadata": {},
   "outputs": [],
   "source": [
    "def simula_traj(x10, vx10, y10, vy10,\n",
    "                x20, vx20, y20, vy20,\n",
    "                x30, vx30, y30, vy30,\n",
    "                dt, t0, tf, Fx, Fy):\n",
    "    \n",
    "    m1 = 100\n",
    "    m2 = 1\n",
    "    m3 = 20\n",
    "    # alocando variáveis x, y e t\n",
    "    n = int(np.ceil((tf - t0)/dt))\n",
    "    x1 = np.zeros([n,1])\n",
    "    y1 = np.zeros([n,1])\n",
    "    vx1 = np.zeros([n,1])\n",
    "    vy1 = np.zeros([n,1])\n",
    "    \n",
    "    x2 = np.zeros([n,1])\n",
    "    y2 = np.zeros([n,1])\n",
    "    vx2 = np.zeros([n,1])\n",
    "    vy2 = np.zeros([n,1])\n",
    "    \n",
    "    x3 = np.zeros([n,1])\n",
    "    y3 = np.zeros([n,1])\n",
    "    vx3 = np.zeros([n,1])\n",
    "    vy3 = np.zeros([n,1])\n",
    "    \n",
    "    t = np.zeros([n,1])\n",
    "    \n",
    "    # inicializar as variáveis que serão simuladas\n",
    "    x1[0] = x10\n",
    "    y1[0] = y10\n",
    "    vx1[0] = vx10\n",
    "    vy1[0] = vy10\n",
    "    \n",
    "    x2[0] = x20\n",
    "    y2[0] = y20\n",
    "    vx2[0] = vx20\n",
    "    vy2[0] = vy20\n",
    "    \n",
    "    x3[0] = x30\n",
    "    y3[0] = y30\n",
    "    vx3[0] = vx30\n",
    "    vy3[0] = vy30\n",
    "    \n",
    "    t[0] = t0\n",
    "    \n",
    "    \n",
    "    # loop pra simular a trajetória\n",
    "    for k in range(1, n):\n",
    "        \n",
    "        # calcular a aceleração ( a = F_tot/m)\n",
    "        ax1 = ( Fx(m1, m2, x1[k-1], y1[k-1], x2[k-1], y2[k-1]) +\n",
    "                Fx(m1, m3, x1[k-1], y1[k-1], x3[k-1], y3[k-1]) )/ m1  \n",
    "        ay1 = ( Fy(m1, m2, x1[k-1], y1[k-1], x2[k-1], y2[k-1]) +\n",
    "                Fy(m1, m3, x1[k-1], y1[k-1], x3[k-1], y3[k-1]) )/ m1\n",
    "        \n",
    "        \n",
    "        ax2 = ( Fx(m2, m1, x2[k-1], y2[k-1], x1[k-1], y1[k-1]) +\n",
    "                Fx(m2, m3, x2[k-1], y2[k-1], x3[k-1], y3[k-1]) )/ m2\n",
    "        ay2 = ( Fy(m2, m1, x2[k-1], y2[k-1], x1[k-1], y1[k-1]) +\n",
    "                Fy(m2, m3, x2[k-1], y2[k-1], x3[k-1], y3[k-1]) )/ m2\n",
    "        \n",
    "        \n",
    "        ax3 = ( Fx(m3, m1, x3[k-1], y3[k-1], x1[k-1], y1[k-1]) +\n",
    "                Fx(m3, m2, x3[k-1], y3[k-1], x2[k-1], y2[k-1]) )/ m3 \n",
    "        ay3 = ( Fy(m3, m1, x3[k-1], y3[k-1], x1[k-1], y1[k-1]) +\n",
    "                Fy(m3, m2, x3[k-1], y3[k-1], x2[k-1], y2[k-1]) )/ m3\n",
    "        \n",
    "        \n",
    "        # dada a velocidade atual, calcular a velocidade em t+dt\n",
    "        vx1[k] = vx1[k-1]+ ax1*dt\n",
    "        vy1[k] = vy1[k-1]+ ay1*dt\n",
    "        vx2[k] = vx2[k-1]+ ax2*dt\n",
    "        vy2[k] = vy2[k-1]+ ay2*dt\n",
    "        vx3[k] = vx3[k-1]+ ax3*dt\n",
    "        vy3[k] = vy3[k-1]+ ay3*dt\n",
    "        \n",
    "        # dado a posição atual, calcula a posição em t+dt\n",
    "        x1[k] = x1[k-1] + vx1[k]*dt\n",
    "        y1[k] = y1[k-1] + vy1[k]*dt\n",
    "        x2[k] = x2[k-1] + vx2[k]*dt\n",
    "        y2[k] = y2[k-1] + vy2[k]*dt\n",
    "        x3[k] = x3[k-1] + vx3[k]*dt\n",
    "        y3[k] = y3[k-1] + vy3[k]*dt\n",
    "        # dado o instante atual, calcular o próximo t[k]\n",
    "        t[k] = t[k-1] + dt\n",
    "          \n",
    "    \n",
    "    return [t, x1, y1, x2, y2, x3, y3]\n",
    "\n",
    "\n",
    "# lei de força do sistema (sistema gravitacional)\n",
    "# fg = (G*m1*m2)/[(x1-x2)²+(y1-y2)²]^(3/2)  * [x2-x1, y2-y1]\n",
    "# fg21x(m1, m2, x1, x2 y1, y2) = (G*m1*m2)/[(x1-x2)²+(y1-y2)²]^(3/2)  * [x2-x1]\n",
    "# fg21y(m1, m2, x1, x2, y1, y2) = (G*m1*m2)/[(x1-x2)²+(y1-y2)²]^(3/2)  * [y2-y1]\n",
    "\n",
    "def Fy(m1, m2, x1, y1, x2, y2):\n",
    "    G = 1.0\n",
    "    return (((G*m1*m2) * (y2-y1)) / (( (x1-x2)**2 + (y1-y2)**2)**(3/2)) )\n",
    "\n",
    "def Fx(m1, m2, x1, y1, x2, y2):\n",
    "    G = 1.0\n",
    "    return (((G*m1*m2) * (x2-x1))/ (((x1-x2)**2 + (y1-y2)**2)**(3/2)))\n"
   ]
  },
  {
   "cell_type": "code",
   "execution_count": 16,
   "metadata": {},
   "outputs": [
    {
     "data": {
      "image/png": "[encoded data removed]",
      "text/plain": [
       "<Figure size 432x288 with 1 Axes>"
      ]
     },
     "metadata": {},
     "output_type": "display_data"
    }
   ],
   "source": [
    "#definis os parametros da simulação\n",
    "x10 = 10.0\n",
    "vx10 = 1.0\n",
    "y10 = 0.0\n",
    "vy10 = 1.0\n",
    "\n",
    "x20 = 0.0\n",
    "vx20 = 0.0\n",
    "y20 = 0.0\n",
    "vy20 = 0.0\n",
    "\n",
    "x30 = 20.0\n",
    "vx30 = 0.1\n",
    "y30 = 30.0\n",
    "vy30 = 0.1\n",
    "\n",
    "dt = 0.01\n",
    "t0 = 0.0\n",
    "tf = 50.0\n",
    "\n",
    "#fazer a simulação\n",
    "t, x1, y1, x2, y2, x3, y3 = simula_traj(x10, vx10, y10, vy10,x20, vx20, y20, vy20,x30, vx30, y30, vy30,dt, t0, tf, Fx, Fy)\n",
    "\n",
    "\n",
    "plt.plot(x1,y1, 'b-', label='Corpo 1')\n",
    "plt.plot(x2,y2, 'r-', label='Corpo2')\n",
    "plt.plot(x3,y3, 'g-', label='Corpo3')\n",
    "plt.xlabel('Posição em x')\n",
    "plt.ylabel('Posição em y')\n",
    "plt.legend()\n",
    "plt.grid()\n"
   ]
  },
  {
   "cell_type": "code",
   "execution_count": 17,
   "metadata": {},
   "outputs": [
    {
     "data": {
      "image/png": "[encoded data removed]",
      "text/plain": [
       "<Figure size 432x288 with 1 Axes>"
      ]
     },
     "metadata": {},
     "output_type": "display_data"
    }
   ],
   "source": [
    "plt.plot(t,x2, 'b-', label='Posição do Corpo 2 em x')\n",
    "plt.plot(t,y2, 'r-', label='Posição do Corpo 2 em y')\n",
    "plt.xlabel('Tempo')\n",
    "plt.ylabel('Posição')\n",
    "plt.legend()\n",
    "plt.grid()"
   ]
  },
  {
   "cell_type": "code",
   "execution_count": 18,
   "metadata": {},
   "outputs": [
    {
     "name": "stdout",
     "output_type": "stream",
     "text": [
      "[[array([-56.51625082]), array([84.05878208])]]\n"
     ]
    }
   ],
   "source": [
    "# Preciso plotar aqui as posições do Corpo 2 nessas novas condições\n",
    "posicoes=[]\n",
    "c=0\n",
    "for i in t:\n",
    "    if t[c]==t[-1]:\n",
    "        posicoes.append([x2[c],y2[c]])\n",
    "    c+=1\n",
    "\n",
    "print(posicoes)\n",
    "    "
   ]
  },
  {
   "cell_type": "code",
   "execution_count": null,
   "metadata": {},
   "outputs": [],
   "source": []
  },
  {
   "cell_type": "code",
   "execution_count": null,
   "metadata": {},
   "outputs": [],
   "source": []
  }
 ],
 "metadata": {
  "kernelspec": {
   "display_name": "Python 3",
   "language": "python",
   "name": "python3"
  },
  "language_info": {
   "codemirror_mode": {
    "name": "ipython",
    "version": 3
   },
   "file_extension": ".py",
   "mimetype": "text/x-python",
   "name": "python",
   "nbconvert_exporter": "python",
   "pygments_lexer": "ipython3",
   "version": "3.8.3"
  }
 },
 "nbformat": 4,
 "nbformat_minor": 2
}
